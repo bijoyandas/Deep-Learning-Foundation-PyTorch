{
 "cells": [
  {
   "cell_type": "code",
   "execution_count": 1,
   "metadata": {},
   "outputs": [],
   "source": [
    "import torch"
   ]
  },
  {
   "cell_type": "code",
   "execution_count": 5,
   "metadata": {},
   "outputs": [],
   "source": [
    "import numpy as np\n",
    "import matplotlib.pyplot as plt"
   ]
  },
  {
   "cell_type": "code",
   "execution_count": 90,
   "metadata": {},
   "outputs": [
    {
     "data": {
      "text/plain": [
       "array([[ 1.1],\n",
       "       [ 2.2],\n",
       "       [ 3.3],\n",
       "       [ 4.4],\n",
       "       [ 5.5],\n",
       "       [ 6.5],\n",
       "       [ 7.2],\n",
       "       [ 8.8],\n",
       "       [ 9.4],\n",
       "       [10.6]], dtype=float32)"
      ]
     },
     "execution_count": 90,
     "metadata": {},
     "output_type": "execute_result"
    }
   ],
   "source": [
    "X_train = np.array([[1.1], [2.2], [3.3], [4.4], [5.5], [6.5], [7.2], [8.8], [9.4], [10.6]], dtype=np.float32)\n",
    "X_train"
   ]
  },
  {
   "cell_type": "code",
   "execution_count": 91,
   "metadata": {},
   "outputs": [
    {
     "data": {
      "text/plain": [
       "array([[1.],\n",
       "       [2.],\n",
       "       [3.],\n",
       "       [4.],\n",
       "       [5.]], dtype=float32)"
      ]
     },
     "execution_count": 91,
     "metadata": {},
     "output_type": "execute_result"
    }
   ],
   "source": [
    "X_test = np.array([[1.0], [2.0], [3.0], [4.0], [5.0]], dtype=np.float32)\n",
    "X_test"
   ]
  },
  {
   "cell_type": "code",
   "execution_count": 92,
   "metadata": {},
   "outputs": [
    {
     "data": {
      "text/plain": [
       "array([[ 2.2],\n",
       "       [ 3.5],\n",
       "       [ 4.7],\n",
       "       [ 5.9],\n",
       "       [ 6.3],\n",
       "       [ 7.4],\n",
       "       [ 8.1],\n",
       "       [ 9.7],\n",
       "       [10.5],\n",
       "       [11.7]], dtype=float32)"
      ]
     },
     "execution_count": 92,
     "metadata": {},
     "output_type": "execute_result"
    }
   ],
   "source": [
    "Y_train = np.array([[2.2], [3.5], [4.7], [5.9], [6.3], [7.4], [8.1], [9.7], [10.5], [11.7]], dtype=np.float32)\n",
    "Y_train"
   ]
  },
  {
   "cell_type": "code",
   "execution_count": 93,
   "metadata": {},
   "outputs": [
    {
     "data": {
      "text/plain": [
       "array([[2., 3., 4., 5., 6.]], dtype=float32)"
      ]
     },
     "execution_count": 93,
     "metadata": {},
     "output_type": "execute_result"
    }
   ],
   "source": [
    "Y_test = np.array([[2.0, 3.0, 4.0, 5.0, 6.0]], dtype=np.float32)\n",
    "Y_test"
   ]
  },
  {
   "cell_type": "code",
   "execution_count": 94,
   "metadata": {},
   "outputs": [
    {
     "data": {
      "image/png": "[encoded data removed]",
      "text/plain": [
       "<Figure size 864x576 with 1 Axes>"
      ]
     },
     "metadata": {
      "needs_background": "light"
     },
     "output_type": "display_data"
    }
   ],
   "source": [
    "plt.figure(figsize= (12,8))\n",
    "\n",
    "plt.scatter(X_train, Y_train, label=\"Training Data\", c=\"b\", s=200)\n",
    "\n",
    "plt.legend()\n",
    "plt.show()"
   ]
  },
  {
   "cell_type": "markdown",
   "metadata": {},
   "source": [
    "### Network starts here"
   ]
  },
  {
   "cell_type": "code",
   "execution_count": 95,
   "metadata": {},
   "outputs": [
    {
     "name": "stdout",
     "output_type": "stream",
     "text": [
      "False\n",
      "False\n"
     ]
    }
   ],
   "source": [
    "X_train = torch.from_numpy(X_train)\n",
    "Y_train = torch.from_numpy(Y_train)\n",
    "\n",
    "print(X_train.requires_grad)\n",
    "print(Y_train.requires_grad)"
   ]
  },
  {
   "cell_type": "code",
   "execution_count": 96,
   "metadata": {},
   "outputs": [],
   "source": [
    "input_size = 1\n",
    "output_size = 1\n",
    "hidden_size = 1"
   ]
  },
  {
   "cell_type": "code",
   "execution_count": 97,
   "metadata": {},
   "outputs": [
    {
     "data": {
      "text/plain": [
       "tensor([[0.5233]], requires_grad=True)"
      ]
     },
     "execution_count": 97,
     "metadata": {},
     "output_type": "execute_result"
    }
   ],
   "source": [
    "W = torch.rand(input_size, hidden_size, requires_grad = True)\n",
    "W"
   ]
  },
  {
   "cell_type": "code",
   "execution_count": 98,
   "metadata": {},
   "outputs": [
    {
     "data": {
      "text/plain": [
       "tensor([[0.7293]], requires_grad=True)"
      ]
     },
     "execution_count": 98,
     "metadata": {},
     "output_type": "execute_result"
    }
   ],
   "source": [
    "B = torch.rand(input_size, hidden_size, requires_grad = True)\n",
    "B"
   ]
  },
  {
   "cell_type": "code",
   "execution_count": 106,
   "metadata": {},
   "outputs": [],
   "source": [
    "learning_rate = 1e-6\n",
    "num_epochs = 10000"
   ]
  },
  {
   "cell_type": "code",
   "execution_count": 107,
   "metadata": {},
   "outputs": [
    {
     "name": "stdout",
     "output_type": "stream",
     "text": [
      "50 19.100982666015625\n",
      "100 17.54468536376953\n",
      "150 16.121442794799805\n",
      "200 14.819890022277832\n",
      "250 13.629629135131836\n",
      "300 12.541141510009766\n",
      "350 11.545698165893555\n",
      "400 10.635348320007324\n",
      "450 9.802864074707031\n",
      "500 9.041550636291504\n",
      "550 8.345316886901855\n",
      "600 7.708615303039551\n",
      "650 7.126338481903076\n",
      "700 6.593848705291748\n",
      "750 6.106860160827637\n",
      "800 5.661505222320557\n",
      "850 5.2542219161987305\n",
      "900 4.881748199462891\n",
      "950 4.541102409362793\n",
      "1000 4.22957181930542\n",
      "1050 3.944666862487793\n",
      "1100 3.684100389480591\n",
      "1150 3.445815324783325\n",
      "1200 3.227883815765381\n",
      "1250 3.02856707572937\n",
      "1300 2.8462767601013184\n",
      "1350 2.6795620918273926\n",
      "1400 2.5270822048187256\n",
      "1450 2.3876235485076904\n",
      "1500 2.2600669860839844\n",
      "1550 2.1434078216552734\n",
      "1600 2.036710500717163\n",
      "1650 1.9391169548034668\n",
      "1700 1.8498516082763672\n",
      "1750 1.76820707321167\n",
      "1800 1.693523645401001\n",
      "1850 1.6252087354660034\n",
      "1900 1.5627217292785645\n",
      "1950 1.505563497543335\n",
      "2000 1.4532740116119385\n",
      "2050 1.4054380655288696\n",
      "2100 1.361676573753357\n",
      "2150 1.3216397762298584\n",
      "2200 1.2850170135498047\n",
      "2250 1.251501441001892\n",
      "2300 1.2208309173583984\n",
      "2350 1.1927733421325684\n",
      "2400 1.1670883893966675\n",
      "2450 1.1435914039611816\n",
      "2500 1.1220839023590088\n",
      "2550 1.1024000644683838\n",
      "2600 1.0843849182128906\n",
      "2650 1.0678880214691162\n",
      "2700 1.0527892112731934\n",
      "2750 1.0389621257781982\n",
      "2800 1.026302456855774\n",
      "2850 1.0147051811218262\n",
      "2900 1.0040868520736694\n",
      "2950 0.9943585395812988\n",
      "3000 0.9854461550712585\n",
      "3050 0.9772768020629883\n",
      "3100 0.9697917103767395\n",
      "3150 0.9629259705543518\n",
      "3200 0.9566309452056885\n",
      "3250 0.9508588314056396\n",
      "3300 0.9455659985542297\n",
      "3350 0.9407038688659668\n",
      "3400 0.9362446665763855\n",
      "3450 0.9321469664573669\n",
      "3500 0.9283846616744995\n",
      "3550 0.9249266386032104\n",
      "3600 0.921748161315918\n",
      "3650 0.9188248515129089\n",
      "3700 0.9161328673362732\n",
      "3750 0.9136571288108826\n",
      "3800 0.9113747477531433\n",
      "3850 0.9092715978622437\n",
      "3900 0.9073312878608704\n",
      "3950 0.9055382013320923\n",
      "4000 0.9038849472999573\n",
      "4050 0.9023542404174805\n",
      "4100 0.900938868522644\n",
      "4150 0.8996263742446899\n",
      "4200 0.8984087705612183\n",
      "4250 0.8972793221473694\n",
      "4300 0.8962308168411255\n",
      "4350 0.8952541947364807\n",
      "4400 0.8943444490432739\n",
      "4450 0.8934971690177917\n",
      "4500 0.8927029967308044\n",
      "4550 0.8919623494148254\n",
      "4600 0.8912671804428101\n",
      "4650 0.8906139731407166\n",
      "4700 0.8900027275085449\n",
      "4750 0.8894264698028564\n",
      "4800 0.8888810873031616\n",
      "4850 0.8883647918701172\n",
      "4900 0.8878788352012634\n",
      "4950 0.8874170184135437\n",
      "5000 0.8869771957397461\n",
      "5050 0.8865570425987244\n",
      "5100 0.8861602544784546\n",
      "5150 0.8857781887054443\n",
      "5200 0.8854132890701294\n",
      "5250 0.8850613236427307\n",
      "5300 0.8847204446792603\n",
      "5350 0.8843981623649597\n",
      "5400 0.8840857148170471\n",
      "5450 0.8837829232215881\n",
      "5500 0.8834884166717529\n",
      "5550 0.8832014203071594\n",
      "5600 0.8829218745231628\n",
      "5650 0.8826484084129333\n",
      "5700 0.8823866844177246\n",
      "5750 0.8821317553520203\n",
      "5800 0.881878674030304\n",
      "5850 0.8816333413124084\n",
      "5900 0.8813899755477905\n",
      "5950 0.8811500668525696\n",
      "6000 0.8809143900871277\n",
      "6050 0.8806819319725037\n",
      "6100 0.8804498314857483\n",
      "6150 0.880227267742157\n",
      "6200 0.8800083994865417\n",
      "6250 0.879790186882019\n",
      "6300 0.8795742988586426\n",
      "6350 0.8793607950210571\n",
      "6400 0.8791484832763672\n",
      "6450 0.878936767578125\n",
      "6500 0.8787263035774231\n",
      "6550 0.878517746925354\n",
      "6600 0.8783107995986938\n",
      "6650 0.878103494644165\n",
      "6700 0.8778975605964661\n",
      "6750 0.8776915073394775\n",
      "6800 0.8774879574775696\n",
      "6850 0.8772838115692139\n",
      "6900 0.877081036567688\n",
      "6950 0.8768837451934814\n",
      "7000 0.8766871690750122\n",
      "7050 0.876490592956543\n",
      "7100 0.8762948513031006\n",
      "7150 0.8761002421379089\n",
      "7200 0.8759052753448486\n",
      "7250 0.8757100105285645\n",
      "7300 0.875515341758728\n",
      "7350 0.8753212690353394\n",
      "7400 0.8751271367073059\n",
      "7450 0.8749324679374695\n",
      "7500 0.8747387528419495\n",
      "7550 0.874545693397522\n",
      "7600 0.874352216720581\n",
      "7650 0.8741583824157715\n",
      "7700 0.873964786529541\n",
      "7750 0.8737713098526001\n",
      "7800 0.8735777735710144\n",
      "7850 0.8733843564987183\n",
      "7900 0.8731910586357117\n",
      "7950 0.872998833656311\n",
      "8000 0.872805655002594\n",
      "8050 0.8726125359535217\n",
      "8100 0.8724196553230286\n",
      "8150 0.872226893901825\n",
      "8200 0.8720340132713318\n",
      "8250 0.871841311454773\n",
      "8300 0.8716487288475037\n",
      "8350 0.8714570999145508\n",
      "8400 0.8712646961212158\n",
      "8450 0.8710722923278809\n",
      "8500 0.8708800673484802\n",
      "8550 0.8706879615783691\n",
      "8600 0.8704949021339417\n",
      "8650 0.8703017234802246\n",
      "8700 0.8701089024543762\n",
      "8750 0.8699168562889099\n",
      "8800 0.8697234988212585\n",
      "8850 0.869530439376831\n",
      "8900 0.8693376779556274\n",
      "8950 0.8691463470458984\n",
      "9000 0.8689591288566589\n",
      "9050 0.8687725067138672\n",
      "9100 0.8685853481292725\n",
      "9150 0.8683987855911255\n",
      "9200 0.8682116866111755\n",
      "9250 0.8680253028869629\n",
      "9300 0.8678382039070129\n",
      "9350 0.8676518797874451\n",
      "9400 0.8674648404121399\n",
      "9450 0.8672786355018616\n",
      "9500 0.867091715335846\n",
      "9550 0.8669055104255676\n",
      "9600 0.8667186498641968\n",
      "9650 0.866532564163208\n",
      "9700 0.8663457632064819\n",
      "9750 0.8661597967147827\n",
      "9800 0.8659731149673462\n",
      "9850 0.865787148475647\n",
      "9900 0.8656005859375\n",
      "9950 0.8654146194458008\n",
      "10000 0.8652281761169434\n"
     ]
    }
   ],
   "source": [
    "for iter in range(1, num_epochs + 1):\n",
    "    Y_pred = X_train.mm(W).add(B)\n",
    "    loss = (Y_pred-Y_train).pow(2).sum()\n",
    "    \n",
    "    if iter % 50 == 0:\n",
    "        print(iter, loss.item())\n",
    "    \n",
    "    loss.backward()\n",
    "    \n",
    "    with torch.no_grad():\n",
    "        W -= learning_rate * W.grad\n",
    "        B -= learning_rate * B.grad\n",
    "        W.grad.zero_()\n",
    "        B.grad.zero_()"
   ]
  },
  {
   "cell_type": "code",
   "execution_count": 108,
   "metadata": {},
   "outputs": [
    {
     "name": "stdout",
     "output_type": "stream",
     "text": [
      "tensor([[1.0312]], requires_grad=True)\n",
      "tensor([[0.8199]], requires_grad=True)\n"
     ]
    }
   ],
   "source": [
    "print(W)\n",
    "print(B)"
   ]
  },
  {
   "cell_type": "code",
   "execution_count": 109,
   "metadata": {},
   "outputs": [
    {
     "data": {
      "text/plain": [
       "tensor([[1.],\n",
       "        [2.],\n",
       "        [3.],\n",
       "        [4.],\n",
       "        [5.]])"
      ]
     },
     "execution_count": 109,
     "metadata": {},
     "output_type": "execute_result"
    }
   ],
   "source": [
    "X_test_tensor = torch.from_numpy(X_test)\n",
    "X_test_tensor"
   ]
  },
  {
   "cell_type": "code",
   "execution_count": 110,
   "metadata": {},
   "outputs": [
    {
     "data": {
      "text/plain": [
       "tensor([[1.8510],\n",
       "        [2.8822],\n",
       "        [3.9133],\n",
       "        [4.9445],\n",
       "        [5.9756]], grad_fn=<AddBackward0>)"
      ]
     },
     "execution_count": 110,
     "metadata": {},
     "output_type": "execute_result"
    }
   ],
   "source": [
    "predicted_tensor = X_test_tensor.mm(W).add(B)\n",
    "predicted_tensor"
   ]
  },
  {
   "cell_type": "markdown",
   "metadata": {},
   "source": [
    "### detach() creates a view on top of the tensor where gradients are not required"
   ]
  },
  {
   "cell_type": "code",
   "execution_count": 111,
   "metadata": {},
   "outputs": [
    {
     "data": {
      "text/plain": [
       "array([[1.8510299],\n",
       "       [2.8821814],\n",
       "       [3.913333 ],\n",
       "       [4.9444847],\n",
       "       [5.9756365]], dtype=float32)"
      ]
     },
     "execution_count": 111,
     "metadata": {},
     "output_type": "execute_result"
    }
   ],
   "source": [
    "predicted = predicted_tensor.detach().numpy()\n",
    "predicted"
   ]
  },
  {
   "cell_type": "code",
   "execution_count": 112,
   "metadata": {},
   "outputs": [
    {
     "data": {
      "image/png": "[encoded data removed]",
      "text/plain": [
       "<Figure size 864x576 with 1 Axes>"
      ]
     },
     "metadata": {
      "needs_background": "light"
     },
     "output_type": "display_data"
    }
   ],
   "source": [
    "plt.figure(figsize= (12,8))\n",
    "\n",
    "plt.scatter(X_test, Y_test, label=\"Test Data\", c=\"b\", s=200)\n",
    "plt.plot(X_test, predicted, label=\"Fitted Line\")\n",
    "\n",
    "plt.legend()\n",
    "plt.show()"
   ]
  }
 ],
 "metadata": {
  "kernelspec": {
   "display_name": "Python 3",
   "language": "python",
   "name": "python3"
  },
  "language_info": {
   "codemirror_mode": {
    "name": "ipython",
    "version": 3
   },
   "file_extension": ".py",
   "mimetype": "text/x-python",
   "name": "python",
   "nbconvert_exporter": "python",
   "pygments_lexer": "ipython3",
   "version": "3.7.9"
  }
 },
 "nbformat": 4,
 "nbformat_minor": 4
}
